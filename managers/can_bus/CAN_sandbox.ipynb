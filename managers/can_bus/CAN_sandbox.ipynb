{
 "cells": [
  {
   "cell_type": "markdown",
   "metadata": {},
   "source": [
    "## Purpose\n",
    "---\n",
    "\n",
    "This file is for manual testing and experimentation;\n",
    "\n",
    "After initial commit, I'll add it to .gitignore."
   ]
  },
  {
   "cell_type": "code",
   "execution_count": 8,
   "metadata": {},
   "outputs": [],
   "source": [
    "import can\n",
    "import time\n",
    "import json"
   ]
  },
  {
   "cell_type": "code",
   "execution_count": 9,
   "metadata": {},
   "outputs": [],
   "source": [
    "CHANNEL_1 = 'test'"
   ]
  },
  {
   "cell_type": "code",
   "execution_count": 10,
   "metadata": {},
   "outputs": [
    {
     "name": "stdout",
     "output_type": "stream",
     "text": [
      "Sent message [ {'data': [0, 0, 0], 'timestamp': 1739535452.811577} ]\n",
      "Recieved message [ {'data': [0, 0, 0], 'timestamp': 1739535452.811577} ]\n",
      "Sent message [ {'data': [0, 0, 0], 'timestamp': 1739535452.811577} ]\n",
      "Recieved message [ {'data': [0, 0, 0], 'timestamp': 1739535452.811577} ]\n",
      "Sent message [ {'data': [1, 1, 1], 'timestamp': 1739535452.8116992} ]\n",
      "Recieved message [ {'data': [0, 0, 0], 'timestamp': 1739535452.811577} ]\n",
      "Sent message [ {'data': [1, 1, 1], 'timestamp': 1739535452.8116992} ]\n",
      "Recieved message [ {'data': [0, 0, 0], 'timestamp': 1739535452.811577} ]\n",
      "Sent message [ {'data': [2, 2, 2], 'timestamp': 1739535452.8117552} ]\n",
      "Recieved message [ {'data': [1, 1, 1], 'timestamp': 1739535452.8116992} ]\n",
      "Sent message [ {'data': [2, 2, 2], 'timestamp': 1739535452.8117552} ]\n",
      "Recieved message [ {'data': [1, 1, 1], 'timestamp': 1739535452.8116992} ]\n",
      "Sent message [ {'data': [3, 3, 3], 'timestamp': 1739535452.8118036} ]\n",
      "Recieved message [ {'data': [1, 1, 1], 'timestamp': 1739535452.8116992} ]\n",
      "Sent message [ {'data': [3, 3, 3], 'timestamp': 1739535452.8118036} ]\n",
      "Recieved message [ {'data': [1, 1, 1], 'timestamp': 1739535452.8116992} ]\n",
      "Sent message [ {'data': [4, 4, 4], 'timestamp': 1739535452.811954} ]\n",
      "Recieved message [ {'data': [2, 2, 2], 'timestamp': 1739535452.8117552} ]\n",
      "Sent message [ {'data': [4, 4, 4], 'timestamp': 1739535452.811954} ]\n",
      "Recieved message [ {'data': [2, 2, 2], 'timestamp': 1739535452.8117552} ]\n",
      "Sent message [ {'data': [5, 5, 5], 'timestamp': 1739535452.8120012} ]\n",
      "Recieved message [ {'data': [2, 2, 2], 'timestamp': 1739535452.8117552} ]\n",
      "Sent message [ {'data': [5, 5, 5], 'timestamp': 1739535452.8120012} ]\n",
      "Recieved message [ {'data': [2, 2, 2], 'timestamp': 1739535452.8117552} ]\n",
      "Sent message [ {'data': [6, 6, 6], 'timestamp': 1739535452.8120472} ]\n",
      "Recieved message [ {'data': [3, 3, 3], 'timestamp': 1739535452.8118036} ]\n",
      "Sent message [ {'data': [6, 6, 6], 'timestamp': 1739535452.8120472} ]\n",
      "Recieved message [ {'data': [3, 3, 3], 'timestamp': 1739535452.8118036} ]\n",
      "Sent message [ {'data': [7, 7, 7], 'timestamp': 1739535452.8120944} ]\n",
      "Recieved message [ {'data': [3, 3, 3], 'timestamp': 1739535452.8118036} ]\n",
      "Sent message [ {'data': [7, 7, 7], 'timestamp': 1739535452.8120944} ]\n",
      "Recieved message [ {'data': [3, 3, 3], 'timestamp': 1739535452.8118036} ]\n",
      "Sent message [ {'data': [8, 8, 8], 'timestamp': 1739535452.8121378} ]\n",
      "Recieved message [ {'data': [4, 4, 4], 'timestamp': 1739535452.811954} ]\n",
      "Sent message [ {'data': [8, 8, 8], 'timestamp': 1739535452.8121378} ]\n",
      "Recieved message [ {'data': [4, 4, 4], 'timestamp': 1739535452.811954} ]\n",
      "Sent message [ {'data': [9, 9, 9], 'timestamp': 1739535452.8121798} ]\n",
      "Recieved message [ {'data': [4, 4, 4], 'timestamp': 1739535452.811954} ]\n",
      "Sent message [ {'data': [9, 9, 9], 'timestamp': 1739535452.8121798} ]\n",
      "Recieved message [ {'data': [4, 4, 4], 'timestamp': 1739535452.811954} ]\n"
     ]
    }
   ],
   "source": [
    "with    can.interface.Bus(CHANNEL_1, interface='virtual') as bus_1, \\\n",
    "        can.interface.Bus(CHANNEL_1, interface='virtual') as bus_2, \\\n",
    "        can.interface.Bus(CHANNEL_1, interface='virtual') as bus_3:\n",
    "\n",
    "    for i in range(10):\n",
    "\n",
    "        _timestamp = time.time()\n",
    "        _arbitration_id = 0xaa\n",
    "        _data = {\n",
    "            'data': [i] * 3,\n",
    "            'timestamp': _timestamp\n",
    "        }\n",
    "        _encode_data = json.dumps(_data, indent=2).encode('utf-8')\n",
    "        message = can.Message(arbitration_id=_arbitration_id, data=_encode_data)\n",
    "\n",
    "        bus_1.send(message)\n",
    "        print(f\"Sent message [ {json.loads(message.data)} ]\")\n",
    "\n",
    "\n",
    "        msg = bus_2.recv()\n",
    "        msg = json.loads(msg.data)\n",
    "        print(f\"Recieved message [ {msg} ]\")\n",
    "\n",
    "        bus_1.send(message)\n",
    "        print(f\"Sent message [ {json.loads(message.data)} ]\")\n",
    "\n",
    "        msg = bus_3.recv()\n",
    "        msg = json.loads(msg.data)\n",
    "        print(f\"Recieved message [ {msg} ]\")"
   ]
  }
 ],
 "metadata": {
  "kernelspec": {
   "display_name": ".venv",
   "language": "python",
   "name": "python3"
  },
  "language_info": {
   "codemirror_mode": {
    "name": "ipython",
    "version": 3
   },
   "file_extension": ".py",
   "mimetype": "text/x-python",
   "name": "python",
   "nbconvert_exporter": "python",
   "pygments_lexer": "ipython3",
   "version": "3.10.12"
  }
 },
 "nbformat": 4,
 "nbformat_minor": 2
}
