{
 "cells": [
  {
   "cell_type": "code",
   "execution_count": 1,
   "metadata": {},
   "outputs": [
    {
     "name": "stdout",
     "output_type": "stream",
     "text": [
      "\n",
      "Usage:   \n",
      "  /home/balint/BME SolarBoat/SolarBoatFrame/.venv/bin/python -m pip install [options] <requirement specifier> [package-index-options] ...\n",
      "  /home/balint/BME SolarBoat/SolarBoatFrame/.venv/bin/python -m pip install [options] -r <requirements file> [package-index-options] ...\n",
      "  /home/balint/BME SolarBoat/SolarBoatFrame/.venv/bin/python -m pip install [options] [-e] <vcs project url> ...\n",
      "  /home/balint/BME SolarBoat/SolarBoatFrame/.venv/bin/python -m pip install [options] [-e] <local project path> ...\n",
      "  /home/balint/BME SolarBoat/SolarBoatFrame/.venv/bin/python -m pip install [options] <archive url/path> ...\n",
      "\n",
      "no such option: -u\n",
      "Note: you may need to restart the kernel to use updated packages.\n"
     ]
    }
   ],
   "source": [
    "%pip install pygame -quiet"
   ]
  },
  {
   "cell_type": "code",
   "execution_count": 2,
   "metadata": {},
   "outputs": [],
   "source": [
    "import numpy as np\n",
    "from gps_coordinate.base import GPSPoint\n",
    "\n",
    "from loguru import logger\n",
    "logger.remove()"
   ]
  },
  {
   "cell_type": "code",
   "execution_count": 3,
   "metadata": {},
   "outputs": [
    {
     "data": {
      "text/plain": [
       "(GPSPoint(lat=46.78000, lon=17.64200),\n",
       " [GPSPoint(lat=46.78300, lon=17.64200),\n",
       "  GPSPoint(lat=46.78300, lon=17.64300),\n",
       "  GPSPoint(lat=46.78200, lon=17.64300),\n",
       "  GPSPoint(lat=46.78200, lon=17.64200),\n",
       "  GPSPoint(lat=46.78300, lon=17.64200)])"
      ]
     },
     "execution_count": 3,
     "metadata": {},
     "output_type": "execute_result"
    }
   ],
   "source": [
    "# Rectangle corners (latitude, longitude) - roughly 30x20 meter box\n",
    "\n",
    "W, E = 17.642, 17.643\n",
    "S, N = 46.782, 46.783\n",
    "\n",
    "boat_origin = GPSPoint(S - 0.002, W)\n",
    "boat = GPSPoint(boat_origin.latitude, boat_origin.longitude)\n",
    "\n",
    "corner_1 = GPSPoint(N, W)\n",
    "corner_2 = GPSPoint(N, E)\n",
    "corner_3 = GPSPoint(S, E)\n",
    "corner_4 = GPSPoint(S, W)\n",
    "\n",
    "\n",
    "# Ordered loop of waypoints\n",
    "waypoints = [corner_1, corner_2, corner_3, corner_4, corner_1]\n",
    "boat, waypoints"
   ]
  },
  {
   "cell_type": "code",
   "execution_count": 4,
   "metadata": {},
   "outputs": [],
   "source": [
    "# Constants\n",
    "U = 1.1  # [m/s]\n",
    "DT = 0.2  # [s]\n",
    "MAX_STEPS = 1000\n",
    "RUDDER_LIMIT_DEG = 35\n",
    "ARRIVAL_TOL_M = 10.0\n",
    "\n",
    "# Controller gains (from paper)\n",
    "k1, k2, k3, k4 = 1.6, 19.92, 2.125, 92.1"
   ]
  },
  {
   "cell_type": "code",
   "execution_count": 5,
   "metadata": {},
   "outputs": [],
   "source": [
    "import math\n",
    "\n",
    "\n",
    "def simulate_path_following(boat: GPSPoint, waypoints: list[GPSPoint]):\n",
    "    int_ey = 0\n",
    "    e_psi_prev = 0\n",
    "    psi = np.pi / 2  # Start facing north\n",
    "\n",
    "    for i, wp in enumerate(waypoints):\n",
    "        while True:\n",
    "            dx = wp.Xn - boat.Xn\n",
    "            dy = wp.Yn - boat.Yn\n",
    "            dist = np.hypot(dx, dy)\n",
    "            if dist < ARRIVAL_TOL_M:\n",
    "                try:\n",
    "                    wp = waypoints.pop(0)\n",
    "                    int_ey = 0  # reset integral to avoid windup\n",
    "                except:\n",
    "                    print(\"All done!\")\n",
    "                    return None\n",
    "                continue\n",
    "\n",
    "            psi_k = np.arctan2(dy, dx)\n",
    "            e_psi = psi - psi_k\n",
    "            de_psi = (e_psi - e_psi_prev) / DT\n",
    "            e_psi_prev = e_psi\n",
    "\n",
    "            ey = np.sin(psi_k) * (boat.Xn - wp.Xn) - np.cos(psi_k) * (boat.Yn - wp.Yn)\n",
    "            int_ey += ey * DT\n",
    "\n",
    "            delta_PD = k1 * e_psi + k2 * de_psi\n",
    "            delta_PI = k3 * ey + k4 * int_ey\n",
    "            delta = delta_PD + delta_PI\n",
    "\n",
    "            rudder = np.clip(delta, -RUDDER_LIMIT_DEG, RUDDER_LIMIT_DEG)\n",
    "            rudder_rad = np.deg2rad(rudder)\n",
    "\n",
    "            # Heading update: small step influenced by rudder\n",
    "            psi += -rudder_rad * 0.05  # rudder factor\n",
    "\n",
    "            turning = abs(e_psi) > np.deg2rad(15)  # example threshold\n",
    "            U = 0.1 if turning else 1.1  # reduce speed when turning\n",
    "\n",
    "            dx_local = U * np.cos(psi + rudder_rad) * DT\n",
    "            dy_local = U * np.sin(psi + rudder_rad) * DT\n",
    "            new_x = boat.Xn + dx_local\n",
    "            new_y = boat.Yn + dy_local\n",
    "            boat.set_from_Xn_Yn(new_x, new_y)\n",
    "\n",
    "            # print(dx_local, dy_local)\n",
    "\n",
    "            yield new_x, new_y, wp.Xn, wp.Yn, dy_local, dx_local, i, dist, U"
   ]
  },
  {
   "cell_type": "code",
   "execution_count": 6,
   "metadata": {},
   "outputs": [
    {
     "name": "stdout",
     "output_type": "stream",
     "text": [
      "pygame 2.6.1 (SDL 2.28.4, Python 3.10.12)\n",
      "Hello from the pygame community. https://www.pygame.org/contribute.html\n"
     ]
    }
   ],
   "source": [
    "# Pygame setup\n",
    "import pygame\n",
    "\n",
    "pygame.init()\n",
    "WIDTH, HEIGHT = 800, 600\n",
    "screen = pygame.display.set_mode((WIDTH, HEIGHT))\n",
    "pygame.display.set_caption(\"Boat Path Simulation\")\n",
    "clock = pygame.time.Clock()\n",
    "\n",
    "\n",
    "def world_to_screen(x, y, origin_x, origin_y, scale):\n",
    "    return int((x - origin_x) * scale + WIDTH / 2), int(HEIGHT / 2 - (y - origin_y) * scale)"
   ]
  },
  {
   "cell_type": "code",
   "execution_count": 7,
   "metadata": {},
   "outputs": [],
   "source": [
    "# Get bounds for scaling\n",
    "all_x = [wp.Xn for wp in waypoints]\n",
    "all_y = [wp.Yn for wp in waypoints]\n",
    "origin_x = np.mean(all_x)\n",
    "origin_y = np.mean(all_y)\n",
    "scale = 1.5  # screen pixels per meter"
   ]
  },
  {
   "cell_type": "code",
   "execution_count": 8,
   "metadata": {},
   "outputs": [],
   "source": [
    "# Generator\n",
    "path_gen = simulate_path_following(boat, waypoints)"
   ]
  },
  {
   "cell_type": "code",
   "execution_count": 9,
   "metadata": {},
   "outputs": [],
   "source": [
    "font = pygame.font.SysFont(None, 24)\n",
    "\n",
    "# Simulation loop\n",
    "running = True\n",
    "while running:\n",
    "    screen.fill((255, 255, 255))\n",
    "\n",
    "    for event in pygame.event.get():\n",
    "        if event.type == pygame.QUIT:\n",
    "            running = False\n",
    "\n",
    "    try:\n",
    "        bx, by, wx, wy, dy_local, dx_local, wp_idx, dist, U = next(path_gen)\n",
    "    except StopIteration:\n",
    "        running = False\n",
    "        continue\n",
    "\n",
    "    # Draw waypoints\n",
    "    for idx, wp in enumerate(waypoints):\n",
    "        x, y = world_to_screen(wp.Xn, wp.Yn, origin_x, origin_y, scale)\n",
    "        pygame.draw.circle(screen, (0, 0, 255), (x, y), 5)\n",
    "        wp_text = font.render(f'{idx}', True, (0, 0, 0))\n",
    "        screen.blit(wp_text, (x + 5, y + 5))\n",
    "\n",
    "    # Draw current waypoint target\n",
    "    wxs, wys = world_to_screen(wx, wy, origin_x, origin_y, scale)\n",
    "    pygame.draw.circle(screen, (0, 255, 0), (wxs, wys), 6)\n",
    "\n",
    "    # Draw boat\n",
    "    bx_s, by_s = world_to_screen(bx, by, origin_x, origin_y, scale)\n",
    "    pygame.draw.circle(screen, (255, 0, 0), (bx_s, by_s), 6)\n",
    "\n",
    "    # Heading arrow\n",
    "    heading_angle = np.arctan2(dy_local, dx_local)\n",
    "    arrow_len = 20\n",
    "    hx = bx_s + arrow_len * np.cos(heading_angle)\n",
    "    hy = by_s - arrow_len * np.sin(heading_angle)\n",
    "    pygame.draw.line(screen, (255, 0, 0), (bx_s, by_s), (hx, hy), 2)\n",
    "\n",
    "    # Line to next waypoint\n",
    "    pygame.draw.line(screen, (0, 150, 0), (bx_s, by_s), (wxs, wys), 2)\n",
    "\n",
    "    # Display waypoint info\n",
    "    info = font.render(f\"WP[{wp_idx}]  Dist: {dist:.1f} m | SPeed is {U} m/s\", True, (0, 0, 0))\n",
    "    screen.blit(info, (10, 10))\n",
    "\n",
    "    pygame.display.flip()\n",
    "    clock.tick(240)"
   ]
  },
  {
   "cell_type": "code",
   "execution_count": 10,
   "metadata": {},
   "outputs": [],
   "source": [
    "pygame.quit()"
   ]
  }
 ],
 "metadata": {
  "kernelspec": {
   "display_name": ".venv",
   "language": "python",
   "name": "python3"
  },
  "language_info": {
   "codemirror_mode": {
    "name": "ipython",
    "version": 3
   },
   "file_extension": ".py",
   "mimetype": "text/x-python",
   "name": "python",
   "nbconvert_exporter": "python",
   "pygments_lexer": "ipython3",
   "version": "3.10.12"
  }
 },
 "nbformat": 4,
 "nbformat_minor": 2
}
