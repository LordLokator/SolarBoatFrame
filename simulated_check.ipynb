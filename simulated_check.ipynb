{
 "cells": [
  {
   "cell_type": "code",
   "execution_count": 1,
   "metadata": {},
   "outputs": [
    {
     "name": "stdout",
     "output_type": "stream",
     "text": [
      "\n",
      "Usage:   \n",
      "  /home/balint/BME SolarBoat/SolarBoatFrame/.venv/bin/python -m pip install [options] <requirement specifier> [package-index-options] ...\n",
      "  /home/balint/BME SolarBoat/SolarBoatFrame/.venv/bin/python -m pip install [options] -r <requirements file> [package-index-options] ...\n",
      "  /home/balint/BME SolarBoat/SolarBoatFrame/.venv/bin/python -m pip install [options] [-e] <vcs project url> ...\n",
      "  /home/balint/BME SolarBoat/SolarBoatFrame/.venv/bin/python -m pip install [options] [-e] <local project path> ...\n",
      "  /home/balint/BME SolarBoat/SolarBoatFrame/.venv/bin/python -m pip install [options] <archive url/path> ...\n",
      "\n",
      "no such option: -u\n",
      "Note: you may need to restart the kernel to use updated packages.\n"
     ]
    }
   ],
   "source": [
    "%pip install pygame -quiet"
   ]
  },
  {
   "cell_type": "code",
   "execution_count": 2,
   "metadata": {},
   "outputs": [],
   "source": [
    "import numpy as np\n",
    "from gps_coordinate.base import GPSPoint\n",
    "\n",
    "from loguru import logger\n",
    "logger.remove()"
   ]
  },
  {
   "cell_type": "code",
   "execution_count": 3,
   "metadata": {},
   "outputs": [
    {
     "data": {
      "text/plain": [
       "(GPSPoint(lat=46.78000, lon=17.64200),\n",
       " [GPSPoint(lat=46.78300, lon=17.64200),\n",
       "  GPSPoint(lat=46.78300, lon=17.64300),\n",
       "  GPSPoint(lat=46.78200, lon=17.64300),\n",
       "  GPSPoint(lat=46.78200, lon=17.64200),\n",
       "  GPSPoint(lat=46.78300, lon=17.64200)])"
      ]
     },
     "execution_count": 3,
     "metadata": {},
     "output_type": "execute_result"
    }
   ],
   "source": [
    "# Rectangle corners (latitude, longitude) - roughly 30x20 meter box\n",
    "\n",
    "W, E = 17.642, 17.643\n",
    "S, N = 46.782, 46.783\n",
    "\n",
    "boat_origin = GPSPoint(S - 0.002, W)\n",
    "boat = GPSPoint(boat_origin.latitude, boat_origin.longitude)\n",
    "\n",
    "corner_1 = GPSPoint(N, W)\n",
    "corner_2 = GPSPoint(N, E)\n",
    "corner_3 = GPSPoint(S, E)\n",
    "corner_4 = GPSPoint(S, W)\n",
    "\n",
    "\n",
    "# Ordered loop of waypoints\n",
    "waypoints = [corner_1, corner_2, corner_3, corner_4, corner_1]\n",
    "boat, waypoints"
   ]
  },
  {
   "cell_type": "code",
   "execution_count": 4,
   "metadata": {},
   "outputs": [],
   "source": [
    "# Constants\n",
    "U = 1.1  # [m/s]\n",
    "DT = 0.2  # [s]\n",
    "MAX_STEPS = 1000\n",
    "RUDDER_LIMIT_DEG = 35\n",
    "ARRIVAL_TOL_M = 10.0\n",
    "\n",
    "# Controller gains (from paper)\n",
    "k1, k2, k3, k4 = 1.6, 19.92, 2.125, 92.1"
   ]
  },
  {
   "cell_type": "code",
   "execution_count": 5,
   "metadata": {},
   "outputs": [],
   "source": [
    "from enum import Enum, auto\n",
    "import numpy as np\n",
    "from gps_coordinate.base import GPSPoint\n",
    "from loguru import logger\n",
    "\n",
    "# Constants\n",
    "DT = 0.2  # timestep\n",
    "ARRIVAL_TOL_M = 10.0\n",
    "RUDDER_LIMIT_DEG = 35\n",
    "MIN_SPEED = 0.1\n",
    "CRUISE_SPEED = 2\n",
    "SPEED_STEP = 0.05\n",
    "\n",
    "# Controller gains (Tomera PDPI)\n",
    "k1, k2, k3, k4 = 1.6, 19.92, 2.125, 92.1\n",
    "\n",
    "\n",
    "class Mode(Enum):\n",
    "    TRACKING = auto()\n",
    "    TURNING = auto()\n",
    "\n",
    "\n",
    "def simulate_path_follower_fsm(boat: GPSPoint, waypoints: list[GPSPoint]):\n",
    "    if not waypoints:\n",
    "        return\n",
    "\n",
    "    mode = Mode.TRACKING\n",
    "    int_ey = 0\n",
    "    e_psi_prev = 0\n",
    "    psi = np.pi / 2  # heading north\n",
    "\n",
    "    U = 0.0\n",
    "\n",
    "    current_wp = waypoints.pop(0)\n",
    "\n",
    "    while True:\n",
    "        dx = current_wp.Xn - boat.Xn\n",
    "        dy = current_wp.Yn - boat.Yn\n",
    "        dist = np.hypot(dx, dy)\n",
    "\n",
    "        if dist < ARRIVAL_TOL_M:\n",
    "            if not waypoints:\n",
    "                logger.info(\"Reached final waypoint.\")\n",
    "                return\n",
    "            current_wp = waypoints.pop(0)\n",
    "            mode = Mode.TURNING\n",
    "            int_ey = 0\n",
    "            continue\n",
    "\n",
    "        # Desired heading\n",
    "        psi_d = np.arctan2(current_wp.Yn - boat.Yn, current_wp.Xn - boat.Xn)\n",
    "        e_psi = np.arctan2(np.sin(psi - psi_d), np.cos(psi - psi_d))\n",
    "        de_psi = (e_psi - e_psi_prev) / DT\n",
    "        e_psi_prev = e_psi\n",
    "\n",
    "        # Lateral error\n",
    "        ey = np.sin(psi_d) * (boat.Xn - current_wp.Xn) - np.cos(psi_d) * (boat.Yn - current_wp.Yn)\n",
    "\n",
    "        if mode == Mode.TURNING:\n",
    "            U = MIN_SPEED\n",
    "            delta = k1 * e_psi + k2 * de_psi\n",
    "            rudder = np.clip(delta, -RUDDER_LIMIT_DEG, RUDDER_LIMIT_DEG)\n",
    "\n",
    "            # Exit turning mode if aligned\n",
    "            if np.abs(e_psi) < np.deg2rad(5) and np.abs(de_psi) < np.deg2rad(0.5):\n",
    "                mode = Mode.TRACKING\n",
    "                int_ey = 0\n",
    "\n",
    "        elif mode == Mode.TRACKING:\n",
    "            U = min(U + SPEED_STEP, CRUISE_SPEED)\n",
    "            int_ey += ey * DT\n",
    "            delta_PD = k1 * e_psi + k2 * de_psi\n",
    "            delta_PI = k3 * ey + k4 * int_ey\n",
    "            rudder = np.clip(delta_PD + delta_PI, -RUDDER_LIMIT_DEG, RUDDER_LIMIT_DEG)\n",
    "\n",
    "        # Apply rudder effect\n",
    "        rudder_rad = np.deg2rad(rudder)\n",
    "        psi += -rudder_rad * 0.05  # simple model\n",
    "\n",
    "        dx_local = U * np.cos(psi + rudder_rad) * DT\n",
    "        dy_local = U * np.sin(psi + rudder_rad) * DT\n",
    "\n",
    "        new_x = boat.Xn + dx_local\n",
    "        new_y = boat.Yn + dy_local\n",
    "        boat.set_from_Xn_Yn(new_x, new_y)\n",
    "\n",
    "        yield new_x, new_y, current_wp.Xn, current_wp.Yn, dy_local, dx_local, mode.name, dist, U"
   ]
  },
  {
   "cell_type": "code",
   "execution_count": 6,
   "metadata": {},
   "outputs": [
    {
     "name": "stdout",
     "output_type": "stream",
     "text": [
      "pygame 2.6.1 (SDL 2.28.4, Python 3.10.12)\n",
      "Hello from the pygame community. https://www.pygame.org/contribute.html\n"
     ]
    }
   ],
   "source": [
    "# Pygame setup\n",
    "import pygame\n",
    "\n",
    "pygame.init()\n",
    "WIDTH, HEIGHT = 800, 600\n",
    "screen = pygame.display.set_mode((WIDTH, HEIGHT))\n",
    "pygame.display.set_caption(\"Boat Path Simulation\")\n",
    "clock = pygame.time.Clock()\n",
    "\n",
    "\n",
    "def world_to_screen(x, y, origin_x, origin_y, scale):\n",
    "    return int((x - origin_x) * scale + WIDTH / 2), int(HEIGHT / 2 - (y - origin_y) * scale)"
   ]
  },
  {
   "cell_type": "code",
   "execution_count": null,
   "metadata": {},
   "outputs": [],
   "source": []
  },
  {
   "cell_type": "code",
   "execution_count": 7,
   "metadata": {},
   "outputs": [],
   "source": [
    "# Get bounds for scaling\n",
    "all_x = [wp.Xn for wp in waypoints]\n",
    "all_y = [wp.Yn for wp in waypoints]\n",
    "\n",
    "padding = 50  # pixels\n",
    "max_span = max(max(all_x) - min(all_x), max(all_y) - min(all_y))\n",
    "scale = (min(WIDTH, HEIGHT) - 2 * padding) / max_span\n",
    "\n",
    "origin_x = (max(all_x) + min(all_x)) / 2\n",
    "origin_y = (max(all_y) + min(all_y)) / 2\n",
    "\n",
    "scale = 1.5  # screen pixels per meter"
   ]
  },
  {
   "cell_type": "code",
   "execution_count": 8,
   "metadata": {},
   "outputs": [],
   "source": [
    "# Generator\n",
    "path_gen = simulate_path_follower_fsm(boat, waypoints)"
   ]
  },
  {
   "cell_type": "code",
   "execution_count": 9,
   "metadata": {},
   "outputs": [],
   "source": [
    "# Auto scale based on bounding box\n",
    "\n",
    "font = pygame.font.SysFont(None, 24)"
   ]
  },
  {
   "cell_type": "code",
   "execution_count": 10,
   "metadata": {},
   "outputs": [],
   "source": [
    "# Simulation loop\n",
    "running = True\n",
    "while running:\n",
    "    screen.fill((40, 130, 255))\n",
    "\n",
    "    for event in pygame.event.get():\n",
    "        if event.type == pygame.QUIT:\n",
    "            running = False\n",
    "\n",
    "    try:\n",
    "        bx, by, wx, wy, dy_local, dx_local, wp_idx, dist, U = next(path_gen)\n",
    "    except StopIteration:\n",
    "        running = False\n",
    "        continue\n",
    "\n",
    "    # Draw waypoints\n",
    "    for idx, wp in enumerate(waypoints):\n",
    "        x, y = world_to_screen(wp.Xn, wp.Yn, origin_x, origin_y, scale)\n",
    "        pygame.draw.circle(screen, (0, 0, 255), (x, y), 5)\n",
    "        wp_text = font.render(f'{idx}', True, (0, 0, 0))\n",
    "        screen.blit(wp_text, (x + 5, y + 5))\n",
    "\n",
    "    # Draw current waypoint target\n",
    "    wxs, wys = world_to_screen(wx, wy, origin_x, origin_y, scale)\n",
    "    pygame.draw.circle(screen, (0, 255, 0), (wxs, wys), 6)\n",
    "\n",
    "    # Draw boat\n",
    "    bx_s, by_s = world_to_screen(bx, by, origin_x, origin_y, scale)\n",
    "    pygame.draw.circle(screen, (255, 0, 0), (bx_s, by_s), 6)\n",
    "\n",
    "    # Heading arrow\n",
    "    heading_angle = np.arctan2(dy_local, dx_local)\n",
    "    arrow_len = 20\n",
    "    hx = bx_s + arrow_len * np.cos(heading_angle)\n",
    "    hy = by_s - arrow_len * np.sin(heading_angle)\n",
    "    pygame.draw.line(screen, (255, 0, 0), (bx_s, by_s), (hx, hy), 2)\n",
    "\n",
    "    # Line to next waypoint\n",
    "    pygame.draw.line(screen, (0, 150, 0), (bx_s, by_s), (wxs, wys), 2)\n",
    "\n",
    "    # Display waypoint info\n",
    "    info = font.render(f\"WP[{wp_idx}]  Dist: {dist:.1f} m | SPeed is {U} m/s\", True, (0, 0, 0))\n",
    "    screen.blit(info, (10, 10))\n",
    "\n",
    "    pygame.display.flip()\n",
    "    clock.tick(240)"
   ]
  },
  {
   "cell_type": "code",
   "execution_count": 11,
   "metadata": {},
   "outputs": [],
   "source": [
    "pygame.quit()"
   ]
  }
 ],
 "metadata": {
  "kernelspec": {
   "display_name": ".venv",
   "language": "python",
   "name": "python3"
  },
  "language_info": {
   "codemirror_mode": {
    "name": "ipython",
    "version": 3
   },
   "file_extension": ".py",
   "mimetype": "text/x-python",
   "name": "python",
   "nbconvert_exporter": "python",
   "pygments_lexer": "ipython3",
   "version": "3.10.12"
  }
 },
 "nbformat": 4,
 "nbformat_minor": 2
}
