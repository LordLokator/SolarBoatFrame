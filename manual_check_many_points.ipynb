{
 "cells": [
  {
   "cell_type": "markdown",
   "metadata": {},
   "source": [
    "## Purpose\n",
    "\n",
    "---\n",
    "\n",
    "This file is to automagically calculate outputs so we can validate the system output.\n",
    "\n",
    "Using many points.\n"
   ]
  },
  {
   "cell_type": "code",
   "execution_count": 1,
   "metadata": {},
   "outputs": [],
   "source": [
    "from gps_coordinate import GPSPoint\n",
    "from math import atan2\n",
    "import numpy as np"
   ]
  },
  {
   "cell_type": "code",
   "execution_count": 2,
   "metadata": {},
   "outputs": [
    {
     "name": "stderr",
     "output_type": "stream",
     "text": [
      "\u001b[32m2025-05-27 16:33:08.920\u001b[0m | \u001b[34m\u001b[1mDEBUG   \u001b[0m | \u001b[36mgps_coordinate.base\u001b[0m:\u001b[36m__init__\u001b[0m:\u001b[36m52\u001b[0m - \u001b[34m\u001b[1mInitialized GPSPoint: (46.7823, 17.642)\u001b[0m\n",
      "\u001b[32m2025-05-27 16:33:08.921\u001b[0m | \u001b[34m\u001b[1mDEBUG   \u001b[0m | \u001b[36mgps_coordinate.base\u001b[0m:\u001b[36m__init__\u001b[0m:\u001b[36m52\u001b[0m - \u001b[34m\u001b[1mInitialized GPSPoint: (46.7823, 17.6423)\u001b[0m\n",
      "\u001b[32m2025-05-27 16:33:08.921\u001b[0m | \u001b[34m\u001b[1mDEBUG   \u001b[0m | \u001b[36mgps_coordinate.base\u001b[0m:\u001b[36m__init__\u001b[0m:\u001b[36m52\u001b[0m - \u001b[34m\u001b[1mInitialized GPSPoint: (46.782, 17.6423)\u001b[0m\n",
      "\u001b[32m2025-05-27 16:33:08.921\u001b[0m | \u001b[34m\u001b[1mDEBUG   \u001b[0m | \u001b[36mgps_coordinate.base\u001b[0m:\u001b[36m__init__\u001b[0m:\u001b[36m52\u001b[0m - \u001b[34m\u001b[1mInitialized GPSPoint: (46.782, 17.642)\u001b[0m\n"
     ]
    },
    {
     "data": {
      "text/plain": [
       "[GPSPoint(lat=46.7823, lon=17.642),\n",
       " GPSPoint(lat=46.7823, lon=17.6423),\n",
       " GPSPoint(lat=46.782, lon=17.6423),\n",
       " GPSPoint(lat=46.782, lon=17.642),\n",
       " GPSPoint(lat=46.7823, lon=17.642)]"
      ]
     },
     "execution_count": 2,
     "metadata": {},
     "output_type": "execute_result"
    }
   ],
   "source": [
    "# Rectangle corners (latitude, longitude) - roughly 30x20 meter box\n",
    "W = 17.6420\n",
    "E = 17.6423\n",
    "S = 46.7820\n",
    "N = 46.7823\n",
    "\n",
    "corner_1 = GPSPoint(N, W)  # bottom-left\n",
    "corner_2 = GPSPoint(N, E)  # bottom-right\n",
    "corner_3 = GPSPoint(S, E)  # top-right\n",
    "corner_4 = GPSPoint(S, W)  # top-left\n",
    "\n",
    "# Ordered loop of waypoints\n",
    "waypoints = [corner_1, corner_2, corner_3, corner_4, corner_1]\n",
    "waypoints"
   ]
  },
  {
   "cell_type": "code",
   "execution_count": 3,
   "metadata": {},
   "outputs": [],
   "source": [
    "# Cell 1: Imports and Setup\n",
    "\n",
    "# Sample lat/lon data\n",
    "psi_deg = -45.0\n",
    "\n",
    "# Current position (just east of WP1, close to the line WP1 → WP2)\n",
    "lat_current = 46.7825\n",
    "lon_current = 17.6427\n",
    "\n",
    "# WP1: South-west point\n",
    "lat_1 = 46.7822\n",
    "lon_1 = 17.6425\n",
    "\n",
    "# WP2: North-west point\n",
    "lat_2 = 46.7828\n",
    "lon_2 = 17.6425\n",
    "\n",
    "\n",
    "# Convert heading\n",
    "psi_current = np.deg2rad(psi_deg)"
   ]
  },
  {
   "cell_type": "code",
   "execution_count": 4,
   "metadata": {},
   "outputs": [],
   "source": [
    "# Controller constants\n",
    "k1, k2, k3, k4 = 1.6, 19.92, 2.125, 92.1\n",
    "U = 1.1  # [m/s]\n",
    "engine_rpm = 440"
   ]
  },
  {
   "cell_type": "code",
   "execution_count": 5,
   "metadata": {},
   "outputs": [],
   "source": [
    "def heading_to_next_waypoint(x0, y0, x1, y1):\n",
    "    \"\"\"Eq. (4): Heading from point 0 to point 1\"\"\"\n",
    "    return atan2(y1 - y0, x1 - x0)\n",
    "\n",
    "\n",
    "def cross_track_error(x, y, x_ref, y_ref, psi_k):\n",
    "    return (x - x_ref) * np.sin(psi_k) - (y - y_ref) * np.cos(psi_k)\n",
    "\n",
    "\n",
    "def control_output(e_psi, de_psi, e_y, int_e_y):\n",
    "    delta_PD = k1 * e_psi + k2 * de_psi\n",
    "    delta_PI = k3 * e_y + k4 * int_e_y\n",
    "\n",
    "    # print(f\"delta_PD: {delta_PD}\")\n",
    "    # print(f\"delta_PI: {delta_PI}\")\n",
    "\n",
    "    return delta_PD + delta_PI"
   ]
  },
  {
   "cell_type": "code",
   "execution_count": 6,
   "metadata": {},
   "outputs": [],
   "source": [
    "# Simulate movement slightly offset from path (e.g. 2m right)\n",
    "offset_east = 2.0"
   ]
  },
  {
   "cell_type": "code",
   "execution_count": 7,
   "metadata": {},
   "outputs": [
    {
     "name": "stderr",
     "output_type": "stream",
     "text": [
      "\u001b[32m2025-05-27 16:33:08.968\u001b[0m | \u001b[34m\u001b[1mDEBUG   \u001b[0m | \u001b[36mgps_coordinate.base\u001b[0m:\u001b[36m__init__\u001b[0m:\u001b[36m52\u001b[0m - \u001b[34m\u001b[1mInitialized GPSPoint: (46.7823, 17.64215)\u001b[0m\n",
      "\u001b[32m2025-05-27 16:33:08.968\u001b[0m | \u001b[34m\u001b[1mDEBUG   \u001b[0m | \u001b[36mgps_coordinate.base\u001b[0m:\u001b[36m__init__\u001b[0m:\u001b[36m52\u001b[0m - \u001b[34m\u001b[1mInitialized GPSPoint: (46.78215, 17.6423)\u001b[0m\n",
      "\u001b[32m2025-05-27 16:33:08.969\u001b[0m | \u001b[34m\u001b[1mDEBUG   \u001b[0m | \u001b[36mgps_coordinate.base\u001b[0m:\u001b[36m__init__\u001b[0m:\u001b[36m52\u001b[0m - \u001b[34m\u001b[1mInitialized GPSPoint: (46.782, 17.64215)\u001b[0m\n",
      "\u001b[32m2025-05-27 16:33:08.969\u001b[0m | \u001b[34m\u001b[1mDEBUG   \u001b[0m | \u001b[36mgps_coordinate.base\u001b[0m:\u001b[36m__init__\u001b[0m:\u001b[36m52\u001b[0m - \u001b[34m\u001b[1mInitialized GPSPoint: (46.78215, 17.642)\u001b[0m\n"
     ]
    },
    {
     "name": "stdout",
     "output_type": "stream",
     "text": [
      "[0] Rudder: 0.07°\tEngine: 440 rpm\tCTE: 0.00 m\n",
      "[1] Rudder: 2.58°\tEngine: 440 rpm\tCTE: 0.00 m\n",
      "[2] Rudder: -4.96°\tEngine: 440 rpm\tCTE: -0.00 m\n",
      "[3] Rudder: -2.44°\tEngine: 440 rpm\tCTE: -0.00 m\n"
     ]
    }
   ],
   "source": [
    "for i in range(len(waypoints) - 1):\n",
    "    wp_start = waypoints[i]\n",
    "    wp_end = waypoints[i + 1]\n",
    "\n",
    "    # Compute desired course\n",
    "    psi_k = heading_to_next_waypoint(wp_start.Xn, wp_start.Yn, wp_end.Xn, wp_end.Yn)\n",
    "\n",
    "    # Simulate a boat position slightly off-path\n",
    "    boat = GPSPoint(\n",
    "        (wp_start.latitude + wp_end.latitude) / 2,\n",
    "        (wp_start.longitude + wp_end.longitude) / 2\n",
    "    )\n",
    "\n",
    "    # Apply manual east offset\n",
    "    x_boat = boat.Xn  # + offset_east\n",
    "    y_boat = boat.Yn\n",
    "\n",
    "    # Errors\n",
    "    e_psi = 0.0 - psi_k  # assuming boat is facing 0° north\n",
    "    de_psi = 0.0\n",
    "    e_y = cross_track_error(x_boat, y_boat, wp_start.Xn, wp_start.Yn, psi_k)\n",
    "    int_e_y = 0.1 * e_y\n",
    "\n",
    "    # Rudder command\n",
    "    rudder_cmd = control_output(e_psi, de_psi, e_y, int_e_y)\n",
    "    rudder_cmd = np.clip(rudder_cmd, -35, 35)  # assume output is already in degrees\n",
    "\n",
    "    print(f\"[{i}] Rudder: {rudder_cmd:.2f}°\\tEngine: {engine_rpm} rpm\\tCTE: {e_y:.2f} m\")\n",
    "\n",
    "    # Optional: sleep for realism or plot step-by-step\n",
    "    # sleep(0.5)"
   ]
  }
 ],
 "metadata": {
  "kernelspec": {
   "display_name": ".venv",
   "language": "python",
   "name": "python3"
  },
  "language_info": {
   "codemirror_mode": {
    "name": "ipython",
    "version": 3
   },
   "file_extension": ".py",
   "mimetype": "text/x-python",
   "name": "python",
   "nbconvert_exporter": "python",
   "pygments_lexer": "ipython3",
   "version": "3.10.12"
  }
 },
 "nbformat": 4,
 "nbformat_minor": 2
}
