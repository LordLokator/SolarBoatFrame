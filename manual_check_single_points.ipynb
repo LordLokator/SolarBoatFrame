{
 "cells": [
  {
   "cell_type": "markdown",
   "metadata": {},
   "source": [
    "## Purpose\n",
    "\n",
    "---\n",
    "\n",
    "This file is for 'manually' calculating outputs so we can validate the system output.\n"
   ]
  },
  {
   "cell_type": "code",
   "execution_count": 1,
   "metadata": {},
   "outputs": [],
   "source": [
    "from math import sin, cos, atan2\n",
    "import numpy as np\n",
    "from pyproj import Transformer"
   ]
  },
  {
   "cell_type": "code",
   "execution_count": 2,
   "metadata": {},
   "outputs": [
    {
     "data": {
      "text/plain": [
       "'\\nEllipsoidal 2D CS\\n- Axes: latitude, longitude\\n- Orientations: north, east\\n- Unit: degree\\n'"
      ]
     },
     "execution_count": 2,
     "metadata": {},
     "output_type": "execute_result"
    }
   ],
   "source": [
    "EPSG_32633_BALATON = 32633\n",
    "\"\"\"\n",
    "USE EAST OF VENICE | WEST OF SIÓFOK!\n",
    "Cartesian 2D CS\n",
    "- Axes: (E,N)\n",
    "- Orientations: east, north\n",
    "- Unit: m\n",
    "- Coverage: **12°E** and **18°E**, northern hemisphere between equator and 84°N.\n",
    "\"\"\"\n",
    "\n",
    "WGS84_GPS = 4326\n",
    "\"\"\"\n",
    "Ellipsoidal 2D CS\n",
    "- Axes: latitude, longitude\n",
    "- Orientations: north, east\n",
    "- Unit: degree\n",
    "\"\"\""
   ]
  },
  {
   "cell_type": "code",
   "execution_count": 3,
   "metadata": {},
   "outputs": [],
   "source": [
    "# Cell 1: Imports and Setup\n",
    "\n",
    "# WGS84 to local ENU projection (use lat/lon of origin as reference)\n",
    "origin_lat, origin_lon = 46.7822, 17.6452  # Boglári kikötő\n",
    "transformer = Transformer.from_crs(\n",
    "    WGS84_GPS,\n",
    "    EPSG_32633_BALATON,\n",
    "    always_xy=True\n",
    ")\n",
    "\n",
    "\n",
    "# Sample lat/lon data\n",
    "psi_deg = -45.0\n",
    "\n",
    "# Current position (just east of WP1, close to the line WP1 → WP2)\n",
    "lat_current = 46.7825\n",
    "lon_current = 17.6427\n",
    "\n",
    "# WP1: South-west point\n",
    "lat_1 = 46.7822\n",
    "lon_1 = 17.6425\n",
    "\n",
    "# WP2: North-west point\n",
    "lat_2 = 46.7828\n",
    "lon_2 = 17.6425\n",
    "\n",
    "\n",
    "# Convert to local XY\n",
    "x_current, y_current = transformer.transform(lon_current, lat_current)\n",
    "xk_1, yk_1 = transformer.transform(lon_1, lat_1)\n",
    "xk_2, yk_2 = transformer.transform(lon_2, lat_2)\n",
    "\n",
    "# Convert heading\n",
    "psi_current = np.deg2rad(psi_deg)\n",
    "\n",
    "# Controller parameters\n",
    "U = 1.1  # [m/s]\n",
    "k1, k2, k3, k4 = 1.6, 19.92, 2.125, 92.1"
   ]
  },
  {
   "cell_type": "code",
   "execution_count": 4,
   "metadata": {},
   "outputs": [
    {
     "data": {
      "text/plain": [
       "(701722.2853319473, 5184386.019295096, np.float64(-45.0))"
      ]
     },
     "execution_count": 4,
     "metadata": {},
     "output_type": "execute_result"
    }
   ],
   "source": [
    "x_current, y_current, np.rad2deg(psi_current)"
   ]
  },
  {
   "cell_type": "code",
   "execution_count": 5,
   "metadata": {},
   "outputs": [
    {
     "name": "stdout",
     "output_type": "stream",
     "text": [
      "Current XY: 701722.29, 5184386.02\n",
      "WP1 XY:     701708.14, 5184352.17\n",
      "WP2 XY:     701705.90, 5184418.84\n"
     ]
    }
   ],
   "source": [
    "print(f\"Current XY: {x_current:.2f}, {y_current:.2f}\")\n",
    "print(f\"WP1 XY:     {xk_1:.2f}, {yk_1:.2f}\")\n",
    "print(f\"WP2 XY:     {xk_2:.2f}, {yk_2:.2f}\")"
   ]
  },
  {
   "cell_type": "code",
   "execution_count": 6,
   "metadata": {},
   "outputs": [],
   "source": [
    "# Cell 2: Helper Functions\n",
    "\n",
    "def heading_to_next_waypoint(x_0, y_0, x_1, y_1):\n",
    "    \"\"\"Eq. (4): Heading from point 0 to point 1\"\"\"\n",
    "    dx = x_1 - x_0\n",
    "    dy = y_1 - y_0\n",
    "\n",
    "    return atan2(dy, dx)\n",
    "\n",
    "\n",
    "def cross_track_error(x, y, x_ref, y_ref, psi_k):\n",
    "    return sin(psi_k) * (x - x_ref) - cos(psi_k) * (y - y_ref)"
   ]
  },
  {
   "cell_type": "code",
   "execution_count": 7,
   "metadata": {},
   "outputs": [
    {
     "data": {
      "text/plain": [
       "np.float64(91.92639345217054)"
      ]
     },
     "execution_count": 7,
     "metadata": {},
     "output_type": "execute_result"
    }
   ],
   "source": [
    "# 1. Desired heading from waypoint segment\n",
    "psi_k = heading_to_next_waypoint(xk_1, yk_1, xk_2, yk_2)\n",
    "np.rad2deg(psi_k)"
   ]
  },
  {
   "cell_type": "code",
   "execution_count": 8,
   "metadata": {},
   "outputs": [
    {
     "data": {
      "text/plain": [
       "np.float64(-136.92639345217054)"
      ]
     },
     "execution_count": 8,
     "metadata": {},
     "output_type": "execute_result"
    }
   ],
   "source": [
    "e_psi = psi_current - psi_k\n",
    "np.rad2deg(e_psi)"
   ]
  },
  {
   "cell_type": "code",
   "execution_count": 9,
   "metadata": {},
   "outputs": [
    {
     "data": {
      "text/plain": [
       "(15.274349588257262, 1.5274349588257263)"
      ]
     },
     "execution_count": 9,
     "metadata": {},
     "output_type": "execute_result"
    }
   ],
   "source": [
    "# 2. Compute errors\n",
    "\n",
    "e_y = cross_track_error(x_current, y_current, xk_1, yk_1, psi_k)\n",
    "int_e_y = 0.1 * e_y  # crude accumulated integral\n",
    "e_y, int_e_y"
   ]
  },
  {
   "cell_type": "code",
   "execution_count": 10,
   "metadata": {},
   "outputs": [
    {
     "name": "stdout",
     "output_type": "stream",
     "text": [
      "delta_PD: -3.8237062377945295\n",
      "delta_PI: 173.13475258289606\n"
     ]
    },
    {
     "data": {
      "text/plain": [
       "(np.float64(9700.8083805182), 440)"
      ]
     },
     "execution_count": 10,
     "metadata": {},
     "output_type": "execute_result"
    }
   ],
   "source": [
    "def control_output(e_psi, de_psi, e_y, int_e_y):\n",
    "    delta_PD = k1 * e_psi + k2 * de_psi\n",
    "    delta_PI = k3 * e_y + k4 * int_e_y\n",
    "\n",
    "    print(f\"delta_PD: {delta_PD}\")\n",
    "    print(f\"delta_PI: {delta_PI}\")\n",
    "    return delta_PD + delta_PI\n",
    "\n",
    "\n",
    "de_psi = 0.0  # assume no derivative change\n",
    "\n",
    "# 3. Final control output (rudder angle)\n",
    "delta_c = control_output(e_psi, de_psi, e_y, int_e_y)\n",
    "# delta_c = np.clip(delta_c, np.deg2rad(-35), np.deg2rad(35))  # saturation\n",
    "\n",
    "rudder_angle_deg = np.rad2deg(delta_c)\n",
    "engine_rpm = 440  # fixed for now\n",
    "\n",
    "rudder_angle_deg, engine_rpm"
   ]
  }
 ],
 "metadata": {
  "kernelspec": {
   "display_name": ".venv",
   "language": "python",
   "name": "python3"
  },
  "language_info": {
   "codemirror_mode": {
    "name": "ipython",
    "version": 3
   },
   "file_extension": ".py",
   "mimetype": "text/x-python",
   "name": "python",
   "nbconvert_exporter": "python",
   "pygments_lexer": "ipython3",
   "version": "3.10.12"
  }
 },
 "nbformat": 4,
 "nbformat_minor": 2
}
