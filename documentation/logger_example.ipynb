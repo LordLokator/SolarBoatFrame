{
 "cells": [
  {
   "cell_type": "markdown",
   "metadata": {},
   "source": [
    "## Example usage of loguru\n",
    "\n",
    "---"
   ]
  },
  {
   "cell_type": "code",
   "execution_count": null,
   "metadata": {},
   "outputs": [],
   "source": [
    "from dotenv import load_dotenv\n",
    "from pathlib import Path\n",
    "from loguru import logger\n",
    "import os\n",
    "\n",
    "assert load_dotenv(), f\"Failiure to load .env from path [ {os.path.dirname(os.path.abspath(__file__))} ]!\"\n",
    "\n",
    "logging_folder = Path(os.getenv(\"LOGGING_PATH\")).resolve()\n",
    "print(f\"Logging to [ {logging_folder} ].\")"
   ]
  },
  {
   "cell_type": "code",
   "execution_count": null,
   "metadata": {},
   "outputs": [],
   "source": [
    "# Add a rotating file handler\n",
    "logger.add(\"test_app.log\", rotation=\"10 KB\", retention=\"7 days\", compression=\"zip\")"
   ]
  },
  {
   "cell_type": "code",
   "execution_count": null,
   "metadata": {},
   "outputs": [],
   "source": [
    "# Basic log\n",
    "logger.info(\"Hello, Loguru!\")\n",
    "\n",
    "# Log with exception\n",
    "try:\n",
    "    1 / 0\n",
    "except ZeroDivisionError:\n",
    "    logger.exception(\"An exception occurred!\")\n",
    "\n",
    "# Structured log\n",
    "logger.bind(user=\"JohnDoe\").info(\"User action occurred\")\n"
   ]
  }
 ],
 "metadata": {
  "kernelspec": {
   "display_name": ".venv",
   "language": "python",
   "name": "python3"
  },
  "language_info": {
   "codemirror_mode": {
    "name": "ipython",
    "version": 3
   },
   "file_extension": ".py",
   "mimetype": "text/x-python",
   "name": "python",
   "nbconvert_exporter": "python",
   "pygments_lexer": "ipython3",
   "version": "3.10.7"
  }
 },
 "nbformat": 4,
 "nbformat_minor": 2
}
